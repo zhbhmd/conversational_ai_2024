{
  "nbformat": 4,
  "nbformat_minor": 0,
  "metadata": {
    "colab": {
      "provenance": [],
      "toc_visible": true,
      "authorship_tag": "ABX9TyPZlsyFaHh+m1jfYWd3Ydkr",
      "include_colab_link": true
    },
    "kernelspec": {
      "name": "python3",
      "display_name": "Python 3"
    },
    "language_info": {
      "name": "python"
    }
  },
  "cells": [
    {
      "cell_type": "markdown",
      "metadata": {
        "id": "view-in-github",
        "colab_type": "text"
      },
      "source": [
        "<a href=\"https://colab.research.google.com/github/zhbhmd/conversational_ai_2024/blob/main/converstational_ai_ps_3_exercise1.ipynb\" target=\"_parent\"><img src=\"https://colab.research.google.com/assets/colab-badge.svg\" alt=\"Open In Colab\"/></a>"
      ]
    },
    {
      "cell_type": "markdown",
      "source": [
        "View code on [github](https://github.com/zhbhmd/conversational_ai_2024/blob/main/converstational_ai_ps_3.ipynb)"
      ],
      "metadata": {
        "id": "KI19eGIweK6N"
      }
    },
    {
      "cell_type": "code",
      "execution_count": 1,
      "metadata": {
        "colab": {
          "base_uri": "https://localhost:8080/"
        },
        "id": "f7vHJZoiWF21",
        "outputId": "e72e2813-4fae-4f6d-b91c-224290f01f81"
      },
      "outputs": [
        {
          "output_type": "stream",
          "name": "stdout",
          "text": [
            "Requirement already satisfied: nltk in /usr/local/lib/python3.10/dist-packages (3.8.1)\n",
            "Requirement already satisfied: click in /usr/local/lib/python3.10/dist-packages (from nltk) (8.1.7)\n",
            "Requirement already satisfied: joblib in /usr/local/lib/python3.10/dist-packages (from nltk) (1.4.2)\n",
            "Requirement already satisfied: regex>=2021.8.3 in /usr/local/lib/python3.10/dist-packages (from nltk) (2024.9.11)\n",
            "Requirement already satisfied: tqdm in /usr/local/lib/python3.10/dist-packages (from nltk) (4.66.6)\n"
          ]
        }
      ],
      "source": [
        "!pip install nltk"
      ]
    },
    {
      "cell_type": "code",
      "source": [
        "from nltk.tokenize import word_tokenize\n",
        "import nltk\n",
        "nltk.download('punkt')"
      ],
      "metadata": {
        "colab": {
          "base_uri": "https://localhost:8080/"
        },
        "id": "wS6qtxzGWX41",
        "outputId": "3cb284a6-5ae6-471a-da14-40e062315ef2"
      },
      "execution_count": 10,
      "outputs": [
        {
          "output_type": "stream",
          "name": "stderr",
          "text": [
            "[nltk_data] Downloading package punkt to /root/nltk_data...\n",
            "[nltk_data]   Package punkt is already up-to-date!\n"
          ]
        },
        {
          "output_type": "execute_result",
          "data": {
            "text/plain": [
              "True"
            ]
          },
          "metadata": {},
          "execution_count": 10
        }
      ]
    },
    {
      "cell_type": "code",
      "source": [
        "text = 'In a bustling city park, children laugh as they chase each other, their footsteps echoing across the playground. Nearby, a group of friends sits on a bench, chatting about their latest adventures and sharing snacks. The sun, now low in the sky, casts long shadows that stretch across the grass, while a gentle breeze rustles the leaves overhead. A couple strolls hand-in-hand, their dog trotting happily beside them, occasionally stopping to sniff around. Birds chirp melodiously from the trees, and a cyclist whizzes by, careful not to disturb the peace. It’s a beautiful, serene scene, filled with life and color, a reminder of the simple joys that each day can bring.'"
      ],
      "metadata": {
        "id": "c6y7cq4uWf-u"
      },
      "execution_count": 3,
      "outputs": []
    },
    {
      "cell_type": "code",
      "source": [
        "tokens = word_tokenize(text)\n",
        "\n",
        "print(tokens)\n",
        "print(len(tokens))\n",
        "\n",
        "word_freq = nltk.FreqDist(tokens)\n",
        "for item in word_freq.items():\n",
        "  print(item)"
      ],
      "metadata": {
        "colab": {
          "base_uri": "https://localhost:8080/"
        },
        "id": "rh3slSsUW07j",
        "outputId": "6192656c-4715-43a2-c4f5-8606c3a4ff22"
      },
      "execution_count": 24,
      "outputs": [
        {
          "output_type": "stream",
          "name": "stdout",
          "text": [
            "['In', 'a', 'bustling', 'city', 'park', ',', 'children', 'laugh', 'as', 'they', 'chase', 'each', 'other', ',', 'their', 'footsteps', 'echoing', 'across', 'the', 'playground', '.', 'Nearby', ',', 'a', 'group', 'of', 'friends', 'sits', 'on', 'a', 'bench', ',', 'chatting', 'about', 'their', 'latest', 'adventures', 'and', 'sharing', 'snacks', '.', 'The', 'sun', ',', 'now', 'low', 'in', 'the', 'sky', ',', 'casts', 'long', 'shadows', 'that', 'stretch', 'across', 'the', 'grass', ',', 'while', 'a', 'gentle', 'breeze', 'rustles', 'the', 'leaves', 'overhead', '.', 'A', 'couple', 'strolls', 'hand-in-hand', ',', 'their', 'dog', 'trotting', 'happily', 'beside', 'them', ',', 'occasionally', 'stopping', 'to', 'sniff', 'around', '.', 'Birds', 'chirp', 'melodiously', 'from', 'the', 'trees', ',', 'and', 'a', 'cyclist', 'whizzes', 'by', ',', 'careful', 'not', 'to', 'disturb', 'the', 'peace', '.', 'It', '’', 's', 'a', 'beautiful', ',', 'serene', 'scene', ',', 'filled', 'with', 'life', 'and', 'color', ',', 'a', 'reminder', 'of', 'the', 'simple', 'joys', 'that', 'each', 'day', 'can', 'bring', '.']\n",
            "133\n",
            "('In', 1)\n",
            "('a', 7)\n",
            "('bustling', 1)\n",
            "('city', 1)\n",
            "('park', 1)\n",
            "(',', 14)\n",
            "('children', 1)\n",
            "('laugh', 1)\n",
            "('as', 1)\n",
            "('they', 1)\n",
            "('chase', 1)\n",
            "('each', 2)\n",
            "('other', 1)\n",
            "('their', 3)\n",
            "('footsteps', 1)\n",
            "('echoing', 1)\n",
            "('across', 2)\n",
            "('the', 7)\n",
            "('playground', 1)\n",
            "('.', 6)\n",
            "('Nearby', 1)\n",
            "('group', 1)\n",
            "('of', 2)\n",
            "('friends', 1)\n",
            "('sits', 1)\n",
            "('on', 1)\n",
            "('bench', 1)\n",
            "('chatting', 1)\n",
            "('about', 1)\n",
            "('latest', 1)\n",
            "('adventures', 1)\n",
            "('and', 3)\n",
            "('sharing', 1)\n",
            "('snacks', 1)\n",
            "('The', 1)\n",
            "('sun', 1)\n",
            "('now', 1)\n",
            "('low', 1)\n",
            "('in', 1)\n",
            "('sky', 1)\n",
            "('casts', 1)\n",
            "('long', 1)\n",
            "('shadows', 1)\n",
            "('that', 2)\n",
            "('stretch', 1)\n",
            "('grass', 1)\n",
            "('while', 1)\n",
            "('gentle', 1)\n",
            "('breeze', 1)\n",
            "('rustles', 1)\n",
            "('leaves', 1)\n",
            "('overhead', 1)\n",
            "('A', 1)\n",
            "('couple', 1)\n",
            "('strolls', 1)\n",
            "('hand-in-hand', 1)\n",
            "('dog', 1)\n",
            "('trotting', 1)\n",
            "('happily', 1)\n",
            "('beside', 1)\n",
            "('them', 1)\n",
            "('occasionally', 1)\n",
            "('stopping', 1)\n",
            "('to', 2)\n",
            "('sniff', 1)\n",
            "('around', 1)\n",
            "('Birds', 1)\n",
            "('chirp', 1)\n",
            "('melodiously', 1)\n",
            "('from', 1)\n",
            "('trees', 1)\n",
            "('cyclist', 1)\n",
            "('whizzes', 1)\n",
            "('by', 1)\n",
            "('careful', 1)\n",
            "('not', 1)\n",
            "('disturb', 1)\n",
            "('peace', 1)\n",
            "('It', 1)\n",
            "('’', 1)\n",
            "('s', 1)\n",
            "('beautiful', 1)\n",
            "('serene', 1)\n",
            "('scene', 1)\n",
            "('filled', 1)\n",
            "('with', 1)\n",
            "('life', 1)\n",
            "('color', 1)\n",
            "('reminder', 1)\n",
            "('simple', 1)\n",
            "('joys', 1)\n",
            "('day', 1)\n",
            "('can', 1)\n",
            "('bring', 1)\n"
          ]
        }
      ]
    }
  ]
}